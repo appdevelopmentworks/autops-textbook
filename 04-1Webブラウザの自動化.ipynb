{
 "cells": [
  {
   "cell_type": "markdown",
   "id": "5c0d72d7-d498-4cdf-8b9e-7cf317896478",
   "metadata": {},
   "source": [
    "必要なライブラリーインストール"
   ]
  },
  {
   "cell_type": "code",
   "execution_count": 2,
   "id": "a30b8528-559d-48fb-ae06-f7aa3f7a9c36",
   "metadata": {},
   "outputs": [
    {
     "name": "stdout",
     "output_type": "stream",
     "text": [
      "Requirement already satisfied: requests in c:\\users\\hartm\\anaconda3\\lib\\site-packages (2.31.0)\n",
      "Requirement already satisfied: charset-normalizer<4,>=2 in c:\\users\\hartm\\anaconda3\\lib\\site-packages (from requests) (2.0.4)\n",
      "Requirement already satisfied: idna<4,>=2.5 in c:\\users\\hartm\\anaconda3\\lib\\site-packages (from requests) (3.4)\n",
      "Requirement already satisfied: urllib3<3,>=1.21.1 in c:\\users\\hartm\\anaconda3\\lib\\site-packages (from requests) (2.0.7)\n",
      "Requirement already satisfied: certifi>=2017.4.17 in c:\\users\\hartm\\anaconda3\\lib\\site-packages (from requests) (2024.2.2)\n"
     ]
    }
   ],
   "source": [
    "!pip install requests"
   ]
  },
  {
   "cell_type": "code",
   "execution_count": 4,
   "id": "eedd5b8f-62f2-4b05-8140-ebf7ea3a567c",
   "metadata": {},
   "outputs": [
    {
     "name": "stdout",
     "output_type": "stream",
     "text": [
      "Collecting bs4\n",
      "  Using cached bs4-0.0.2-py2.py3-none-any.whl.metadata (411 bytes)\n",
      "Requirement already satisfied: beautifulsoup4 in c:\\users\\hartm\\anaconda3\\lib\\site-packages (from bs4) (4.12.2)\n",
      "Requirement already satisfied: soupsieve>1.2 in c:\\users\\hartm\\anaconda3\\lib\\site-packages (from beautifulsoup4->bs4) (2.5)\n",
      "Using cached bs4-0.0.2-py2.py3-none-any.whl (1.2 kB)\n",
      "Installing collected packages: bs4\n",
      "Successfully installed bs4-0.0.2\n"
     ]
    }
   ],
   "source": [
    "!pip install bs4"
   ]
  },
  {
   "cell_type": "code",
   "execution_count": 5,
   "id": "af4f6dd5-a85c-4387-84d1-8f70ff9d954e",
   "metadata": {},
   "outputs": [
    {
     "name": "stdout",
     "output_type": "stream",
     "text": [
      "Requirement already satisfied: html5lib in c:\\users\\hartm\\anaconda3\\lib\\site-packages (1.1)\n",
      "Requirement already satisfied: six>=1.9 in c:\\users\\hartm\\appdata\\roaming\\python\\python311\\site-packages (from html5lib) (1.16.0)\n",
      "Requirement already satisfied: webencodings in c:\\users\\hartm\\anaconda3\\lib\\site-packages (from html5lib) (0.5.1)\n"
     ]
    }
   ],
   "source": [
    "!pip install html5lib"
   ]
  },
  {
   "cell_type": "code",
   "execution_count": 6,
   "id": "ad31ce60-649c-4ddb-bf9c-fe6f1e38625a",
   "metadata": {},
   "outputs": [],
   "source": [
    "import requests"
   ]
  },
  {
   "cell_type": "code",
   "execution_count": 7,
   "id": "0b77562b-4a74-436c-a222-a20e63d2b9dc",
   "metadata": {},
   "outputs": [
    {
     "name": "stdout",
     "output_type": "stream",
     "text": [
      "2024/03/26 10:30:47\n"
     ]
    }
   ],
   "source": [
    "url = 'http://api.aoikujira.com/time/get.php'\n",
    "\n",
    "result = requests.get(url)\n",
    "\n",
    "print(result.text)"
   ]
  },
  {
   "cell_type": "code",
   "execution_count": 10,
   "id": "f04da35b-47c5-4826-a59d-218684eea330",
   "metadata": {},
   "outputs": [
    {
     "name": "stdout",
     "output_type": "stream",
     "text": [
      "OK= True\n",
      "text= 2024/03/26 10:33:50\n",
      "status_code= 200\n"
     ]
    }
   ],
   "source": [
    "url = 'http://api.aoikujira.com/time/get.php'\n",
    "\n",
    "result = requests.get(url)\n",
    "\n",
    "print('OK=',result.ok)\n",
    "\n",
    "if result.ok:\n",
    "    print('text=', result.text)\n",
    "print('status_code=', result.status_code)"
   ]
  },
  {
   "cell_type": "code",
   "execution_count": 11,
   "id": "5c5148a8-8f44-4479-b67b-1fb9fe972013",
   "metadata": {},
   "outputs": [
    {
     "name": "stdout",
     "output_type": "stream",
     "text": [
      "OK.\n"
     ]
    }
   ],
   "source": [
    "url = 'http://uta.pw/shodou/img/3/3.png'\n",
    "\n",
    "res = requests.get(url)\n",
    "\n",
    "if not res.ok:\n",
    "    print(\"失敗：\", res.status_code)\n",
    "    quit()\n",
    "\n",
    "with open('gyudon.png', 'wb')as fp:\n",
    "    fp.write(res.content)\n",
    "print(\"OK.\")\n"
   ]
  },
  {
   "cell_type": "code",
   "execution_count": 23,
   "id": "4d403cde-c4e4-4737-b981-31b197ec53f1",
   "metadata": {},
   "outputs": [],
   "source": [
    "import os, time\n",
    "import requests"
   ]
  },
  {
   "cell_type": "code",
   "execution_count": 13,
   "id": "74498413-718b-426a-b305-10afe53498ca",
   "metadata": {},
   "outputs": [],
   "source": [
    "save_dir = './imgs'\n",
    "\n",
    "base_url = 'http://uta.pw/shodou/img/{0}/{1}.png'"
   ]
  },
  {
   "cell_type": "code",
   "execution_count": 15,
   "id": "101f760c-ac67-49b0-92a4-644d9891ac74",
   "metadata": {},
   "outputs": [],
   "source": [
    "def download_file(id):\n",
    "    url = base_url.format(id%31, id)\n",
    "    save_file = save_dir + '/' + str(id) + '.png'\n",
    "    res = requests.get(url)\n",
    "    if not res.ok:\n",
    "        print(\"失敗：\", res.status_code)\n",
    "        return\n",
    "    with open(save_file, 'wb') as fp:\n",
    "        fp.write(res.content)\n",
    "    print(\"save:\", save_file)"
   ]
  },
  {
   "cell_type": "code",
   "execution_count": 21,
   "id": "0ace72dd-5fc8-49e6-b48e-7debd8c9ae1c",
   "metadata": {},
   "outputs": [],
   "source": [
    "def download_all():\n",
    "    if not os.path.exists(save_dir):\n",
    "        os.makedirs(save_dir)\n",
    "\n",
    "    for id in range(1, 11):\n",
    "        download_file(id)\n",
    "        time.sleep(1) "
   ]
  },
  {
   "cell_type": "code",
   "execution_count": 22,
   "id": "3b30d3b3-0ab9-4c15-9954-8b3acc832f39",
   "metadata": {},
   "outputs": [
    {
     "name": "stdout",
     "output_type": "stream",
     "text": [
      "save: ./imgs/1.png\n",
      "save: ./imgs/2.png\n",
      "save: ./imgs/3.png\n",
      "save: ./imgs/4.png\n",
      "save: ./imgs/5.png\n",
      "save: ./imgs/6.png\n",
      "save: ./imgs/7.png\n",
      "save: ./imgs/8.png\n",
      "save: ./imgs/9.png\n",
      "save: ./imgs/10.png\n"
     ]
    }
   ],
   "source": [
    "download_all()"
   ]
  },
  {
   "cell_type": "code",
   "execution_count": null,
   "id": "3edde202-bce1-4370-80de-5f53aaf200f3",
   "metadata": {},
   "outputs": [],
   "source": []
  }
 ],
 "metadata": {
  "kernelspec": {
   "display_name": "Python 3 (ipykernel)",
   "language": "python",
   "name": "python3"
  },
  "language_info": {
   "codemirror_mode": {
    "name": "ipython",
    "version": 3
   },
   "file_extension": ".py",
   "mimetype": "text/x-python",
   "name": "python",
   "nbconvert_exporter": "python",
   "pygments_lexer": "ipython3",
   "version": "3.11.7"
  }
 },
 "nbformat": 4,
 "nbformat_minor": 5
}
