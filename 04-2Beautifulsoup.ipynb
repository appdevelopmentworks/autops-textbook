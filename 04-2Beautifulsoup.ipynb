{
 "cells": [
  {
   "cell_type": "code",
   "execution_count": 1,
   "id": "949fede2-8605-4a91-967d-7f6ef430bf0f",
   "metadata": {},
   "outputs": [],
   "source": [
    "from bs4 import BeautifulSoup"
   ]
  },
  {
   "cell_type": "code",
   "execution_count": 2,
   "id": "a76916aa-04ab-4b87-9cc9-41430d366837",
   "metadata": {},
   "outputs": [
    {
     "name": "stdout",
     "output_type": "stream",
     "text": [
      "<html>\n",
      " <head>\n",
      " </head>\n",
      " <body>\n",
      "  ...\n",
      " </body>\n",
      "</html>\n",
      "\n"
     ]
    }
   ],
   "source": [
    "html_str = \"<html><body>...</body></html>\"\n",
    "\n",
    "soup = BeautifulSoup(html_str, 'html5lib')\n",
    "\n",
    "print(soup.prettify())"
   ]
  },
  {
   "cell_type": "code",
   "execution_count": 5,
   "id": "9af53362-51d0-4e35-b9df-5834dd9f9a53",
   "metadata": {},
   "outputs": [
    {
     "name": "stdout",
     "output_type": "stream",
     "text": [
      "<title>魚について</title>\n",
      "魚について\n"
     ]
    }
   ],
   "source": [
    "with open('fish.html', encoding='utf-8')as fp:\n",
    "    html_str = fp.read()\n",
    "\n",
    "soup = BeautifulSoup(html_str, 'html5lib')\n",
    "\n",
    "title = soup.find('title')\n",
    "\n",
    "print(title)\n",
    "print(title.text)"
   ]
  },
  {
   "cell_type": "code",
   "execution_count": 6,
   "id": "cbf918a8-4735-4257-b77b-2a65d8a663f9",
   "metadata": {},
   "outputs": [
    {
     "name": "stdout",
     "output_type": "stream",
     "text": [
      "カツオ\n",
      "ウナギ\n",
      "サケ\n"
     ]
    }
   ],
   "source": [
    "h2_list = soup.find_all('h2')\n",
    "\n",
    "for h2 in h2_list:\n",
    "    print(h2.text)"
   ]
  },
  {
   "cell_type": "code",
   "execution_count": 8,
   "id": "8adc447b-2cc8-45d2-a115-f8678280774a",
   "metadata": {},
   "outputs": [
    {
     "name": "stdout",
     "output_type": "stream",
     "text": [
      "12,800円/kg\n"
     ]
    }
   ],
   "source": [
    "for h2 in soup.find_all('h2'):\n",
    "    if h2.text == 'ウナギ':\n",
    "        for e in h2.next_siblings:\n",
    "            if e.name == 'p':\n",
    "                if e['class'][0]=='price':\n",
    "                    print(e.string)"
   ]
  },
  {
   "cell_type": "code",
   "execution_count": 10,
   "id": "acb0714d-8650-4fa4-863f-28c14d627dee",
   "metadata": {},
   "outputs": [
    {
     "name": "stdout",
     "output_type": "stream",
     "text": [
      "12,800円/kg\n"
     ]
    }
   ],
   "source": [
    "p = soup.select('div#eel > p.price')\n",
    "print(p[0].string)"
   ]
  },
  {
   "cell_type": "code",
   "execution_count": 18,
   "id": "ea1991ba-eeb5-436a-b2b6-aca694524a1a",
   "metadata": {},
   "outputs": [
    {
     "name": "stdout",
     "output_type": "stream",
     "text": [
      "カツオ 大型肉食魚。鉄分が多く味の個性が強い。 2,980円/kg\n",
      "ウナギ 海で産卵し川に戻る。蒲焼きで食べる。 12,800円/kg\n",
      "サケ 川で産卵し海で過ごす。脂のりが良い。 1,890円/kg\n"
     ]
    },
    {
     "data": {
      "text/plain": [
       "[['カツオ', '大型肉食魚。鉄分が多く味の個性が強い。', '2,980円/kg'],\n",
       " ['ウナギ', '海で産卵し川に戻る。蒲焼きで食べる。', '12,800円/kg'],\n",
       " ['サケ', '川で産卵し海で過ごす。脂のりが良い。', '1,890円/kg']]"
      ]
     },
     "execution_count": 18,
     "metadata": {},
     "output_type": "execute_result"
    }
   ],
   "source": [
    "res = []\n",
    "div_list = soup.select('#fishes > div')\n",
    "\n",
    "for div in div_list:\n",
    "    fish = div.h2.text\n",
    "    desc = div.select('.desc')[0].text\n",
    "    price = div.select('.price')[0].text\n",
    "    print(fish, desc, price)\n",
    "    res.append([fish, desc, price])\n",
    "\n",
    "res"
   ]
  },
  {
   "cell_type": "code",
   "execution_count": 19,
   "id": "fef51e98-b61b-469b-b1a1-ec57775cacb3",
   "metadata": {},
   "outputs": [],
   "source": [
    "import csv\n",
    "\n",
    "with open('fish.csv', 'wt', encoding='utf-8') as fp:\n",
    "    csv.writer(fp).writerows(res)"
   ]
  },
  {
   "cell_type": "code",
   "execution_count": null,
   "id": "d292a5df-5781-4e39-82c2-b614076809e4",
   "metadata": {},
   "outputs": [],
   "source": []
  }
 ],
 "metadata": {
  "kernelspec": {
   "display_name": "Python 3 (ipykernel)",
   "language": "python",
   "name": "python3"
  },
  "language_info": {
   "codemirror_mode": {
    "name": "ipython",
    "version": 3
   },
   "file_extension": ".py",
   "mimetype": "text/x-python",
   "name": "python",
   "nbconvert_exporter": "python",
   "pygments_lexer": "ipython3",
   "version": "3.11.7"
  }
 },
 "nbformat": 4,
 "nbformat_minor": 5
}
